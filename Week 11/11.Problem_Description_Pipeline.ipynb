{
 "cells": [
  {
   "cell_type": "markdown",
   "metadata": {},
   "source": [
    "# 11. Problem Description and Pipeline"
   ]
  },
  {
   "cell_type": "markdown",
   "metadata": {},
   "source": [
    "The last unit walks us through a machine learning application using the example of photo OCR (Optical Character Recognition).  "
   ]
  },
  {
   "cell_type": "markdown",
   "metadata": {},
   "source": [
    "In this case, a typical pipeline may look like this:\n",
    "\n",
    "1. Text detection\n",
    "2. Character segmentation\n",
    "3. Character classification\n",
    "\n",
    "\n",
    "**Note**: more advanced system may even perform corrections based on context (e.g. _1_earning > learning)"
   ]
  },
  {
   "cell_type": "markdown",
   "metadata": {},
   "source": [
    "In machine learning systems, pipelines are very common and each piece / component / stage may be tackled as a specific ML problem. "
   ]
  },
  {
   "cell_type": "markdown",
   "metadata": {},
   "source": [
    "### Artificial data\n",
    "\n",
    "As mentioned earlier in the course, algorithms applied on large datasets tend to outperform regardless of the algorithm used. It is therefore crucial to secure large amount of data, or create our own if necessary. "
   ]
  },
  {
   "cell_type": "markdown",
   "metadata": {},
   "source": []
  }
 ],
 "metadata": {
  "kernelspec": {
   "display_name": "Python 3",
   "language": "python",
   "name": "python3"
  },
  "language_info": {
   "codemirror_mode": {
    "name": "ipython",
    "version": 3
   },
   "file_extension": ".py",
   "mimetype": "text/x-python",
   "name": "python",
   "nbconvert_exporter": "python",
   "pygments_lexer": "ipython3",
   "version": "3.6.1"
  }
 },
 "nbformat": 4,
 "nbformat_minor": 2
}
