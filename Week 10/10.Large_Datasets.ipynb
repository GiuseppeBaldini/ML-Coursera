{
 "cells": [
  {
   "cell_type": "markdown",
   "metadata": {},
   "source": [
    "# 10. Large Datasets"
   ]
  },
  {
   "cell_type": "markdown",
   "metadata": {},
   "source": [
    "Although we know that in many cases more data = more accurate algorithms, as a first step it is always worth checking if good results can already be accomplished with less data. \n",
    "\n",
    "A good method to check this would be plotting the learning curve (error as function of training size) and check for convergence. If that's not happening, we are likely in a low bias situation, which makes us more confident that adding data will improve our algorithm. "
   ]
  },
  {
   "cell_type": "markdown",
   "metadata": {},
   "source": [
    "### Stochastic Gradient Descent \n",
    "\n",
    "The gradient descent we saw in previous sections is also called **batch gradient descent**. However, a different approach may be using **stochastic gradient descent**, working as follows:\n",
    "\n",
    "1. Randomly reorder training examples\n",
    "2. Go through training examples _individually_ (without need to sum over all training examples, like batch GD does) \n",
    "\n",
    "**Note**: this means that SGD cost may not strictly decrease over type, and will likely \"random walk\" to get close to the global minimum.  "
   ]
  },
  {
   "cell_type": "markdown",
   "metadata": {},
   "source": [
    "### Mini-Batch Gradient Descent\n",
    "\n",
    "Mini-batch GD lies in between our previous batch and stochastic flavours. The comparison would look something like this:\n",
    "\n",
    "* Batch: all $m$ examples in each iteration\n",
    "* Stochastic: 1 example in each iteration\n",
    "* Mini-batch: $b$ examples in each iteration\n",
    "\n"
   ]
  }
 ],
 "metadata": {
  "kernelspec": {
   "display_name": "Python 3",
   "language": "python",
   "name": "python3"
  },
  "language_info": {
   "codemirror_mode": {
    "name": "ipython",
    "version": 3
   },
   "file_extension": ".py",
   "mimetype": "text/x-python",
   "name": "python",
   "nbconvert_exporter": "python",
   "pygments_lexer": "ipython3",
   "version": "3.6.1"
  }
 },
 "nbformat": 4,
 "nbformat_minor": 2
}
