{
 "cells": [
  {
   "cell_type": "markdown",
   "metadata": {},
   "source": [
    "# 1.1 Introduction"
   ]
  },
  {
   "cell_type": "markdown",
   "metadata": {},
   "source": [
    "### Definitions\n",
    "\n",
    "1. \"Field of study that gives computers the ability to learn without being explicitly programmed\" (Arthur Samuel, 1959) [_Older, more informal_]\n",
    "2. \"A computer is said to _learn_ from experience E with respect to some task T and some performance measure P, if its performance on T, measured by P, improves with experience E\" (Tom Mitchell, 1998)\n",
    "\n",
    "**Example**: in spam filtering using ML, the task (T) is classifying whether an email is spam or not."
   ]
  },
  {
   "cell_type": "markdown",
   "metadata": {},
   "source": [
    "### Supervised Learning\n",
    "\n",
    "The algorithm learns from \"right answers\". \n",
    "\n",
    "**Example 1**: in **regression** problems, we want to predict a continuous valued output.  \n",
    "**Example 2**: in **classfication** problems, we want to predict a discrete valued output (_label_)."
   ]
  },
  {
   "cell_type": "markdown",
   "metadata": {},
   "source": [
    "### Unsupervised Learning\n",
    "\n",
    "The algorithm works on a dataset without existing labels and tries to understand the underlying structure of the data. \n",
    "\n",
    "**Example 1**: in **classification** problems, we want to categorize our data in different clusters."
   ]
  }
 ],
 "metadata": {
  "kernelspec": {
   "display_name": "Octave",
   "language": "octave",
   "name": "octave"
  },
  "language_info": {
   "name": ""
  }
 },
 "nbformat": 4,
 "nbformat_minor": 2
}
