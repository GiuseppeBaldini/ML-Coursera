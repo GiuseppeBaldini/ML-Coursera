{
 "cells": [
  {
   "cell_type": "markdown",
   "metadata": {},
   "source": [
    "# 9. Anomaly Detection"
   ]
  },
  {
   "cell_type": "markdown",
   "metadata": {},
   "source": [
    "### Anomaly Detection"
   ]
  },
  {
   "cell_type": "markdown",
   "metadata": {},
   "source": [
    "As the name suggests, anomaly detection algorithms detect when a data point deviate substantially from the rest. \n",
    "\n",
    "More formally, we specify a paramter $\\epsilon$ and **flag** our data point if $p(x_{test}) < \\epsilon$"
   ]
  },
  {
   "cell_type": "markdown",
   "metadata": {},
   "source": [
    "**Algorithm**\n",
    "\n",
    "To develop our anomaly detection algorithm, we will assume that our $x_i$ are distributed normally:\n",
    "\n",
    "$x_i \\sim N(\\mu, \\sigma^2)$ \n",
    "\n",
    "The next steps are:\n",
    "\n",
    "1. Choose features $x_i$ that may characterize anomalous examples  \n",
    "2. Fit paramters \n",
    "\n",
    "$\\mu_i = \\frac{1}{m} \\sum^m_{i =1} x_j^{(i)}$  \n",
    "$\\sigma_j^2 = \\frac{1}{m} \\sum^m_{i =1} (x_j^{(i)} - \\mu_j )^2$\n",
    "\n",
    "3. Given new example $x$ compute $p(x)$:\n",
    "\n",
    "$p(x) = \\prod_{j = i}^n p(x_j; \\mu_j; \\sigma_j^2) = \\prod_{j = i}^n \\frac{1}{\\sqrt{2\\pi}\\sigma_j} exp (- \\frac{(x_j - \\mu_j )^2}{2\\sigma_j^2})$"
   ]
  },
  {
   "cell_type": "markdown",
   "metadata": {},
   "source": []
  }
 ],
 "metadata": {
  "kernelspec": {
   "display_name": "Python 3",
   "language": "python",
   "name": "python3"
  },
  "language_info": {
   "codemirror_mode": {
    "name": "ipython",
    "version": 3
   },
   "file_extension": ".py",
   "mimetype": "text/x-python",
   "name": "python",
   "nbconvert_exporter": "python",
   "pygments_lexer": "ipython3",
   "version": "3.6.1"
  }
 },
 "nbformat": 4,
 "nbformat_minor": 2
}
