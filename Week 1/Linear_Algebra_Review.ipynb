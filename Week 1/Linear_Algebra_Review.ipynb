{
 "cells": [
  {
   "cell_type": "markdown",
   "metadata": {},
   "source": [
    "# Linear Algebra Review"
   ]
  },
  {
   "cell_type": "markdown",
   "metadata": {},
   "source": [
    "### Introduction\n",
    "\n",
    "A **matrix** is a rectangular (two-dimensional) array of numbers such as:"
   ]
  },
  {
   "cell_type": "markdown",
   "metadata": {},
   "source": [
    "$\\left[\n",
    "\\begin{array}{ccc}\n",
    "2 & 4 & 42 \\\\\n",
    "6 & 9 & 99\\\\\n",
    "100 & 88 & 5\n",
    "\\end{array}\n",
    "\\right]$"
   ]
  },
  {
   "cell_type": "markdown",
   "metadata": {},
   "source": [
    "By convention, they are described as $rows \\times columns$ (the example above would be *3 x 3*). Therefore, $A_{ij}$ will refer to the element at the $i^{th}$ row and $j^{th}$ column of matrix A.\n",
    " \n",
    "A **vector** is a special matrix with one column ($n \\times 1$). We describe this as n-dimensional as a vector. We can describe a vector element as simply the $i^{th}$ element. \n",
    "\n",
    "A **scalar** is a single value (neither a matrix or a vector), for example 42. "
   ]
  },
  {
   "cell_type": "markdown",
   "metadata": {},
   "source": [
    "### Addition and Scalar Multiplication"
   ]
  },
  {
   "cell_type": "markdown",
   "metadata": {},
   "source": [
    "If the matrices have the same dimension, we can simply add them together element by element.\n",
    "\n",
    "A scalar multiplication works the same way, multiplying the scalar number for every element of the matrix. "
   ]
  },
  {
   "cell_type": "markdown",
   "metadata": {},
   "source": [
    "### Matrix Vector Multiplication\n",
    "\n",
    "Given _A = m x n_ and _B = o x p_ matrix multiplication can be performed only if n = o (**$cols_1$ = $rows_2$**).\n",
    "\n",
    "$\\left[\n",
    "\\begin{array}{ccc}\n",
    "a_{11} & a_{12} \\\\\n",
    "a_{21} & a_{22}\\\\\n",
    "a_{31} & a_{32}\n",
    "\\end{array}\n",
    "\\right]$\n",
    "\n",
    "$\\left[\n",
    "\\begin{array}{ccc}\n",
    "b_{11} & b_{12} \\\\\n",
    "b_{21} & b_{22}\\\\\n",
    "\\end{array}\n",
    "\\right]$\n",
    "\n",
    "New matrix C: m x p (**n_rows of first x n_cols of second**.  \n",
    "\n",
    "Element $c_{11}$ will be: $(a_{11} \\cdot b_{11}) + (a_{12} \\cdot c_{21}) .. $ "
   ]
  },
  {
   "cell_type": "markdown",
   "metadata": {},
   "source": [
    "**Application**\n",
    "\n",
    "Matrix multiplication can be used to solve systems of linear equations. \n",
    "\n",
    "In our linear regression case: $Prediction = DataMatrix \\times Parameters$ "
   ]
  },
  {
   "cell_type": "markdown",
   "metadata": {},
   "source": [
    "### Matrix Multiplication Properties \n",
    "\n",
    "1. Matrix multiplication is **not commutative**\n",
    "2. Matrix multiplication is **associative**\n",
    "3. Identity Matrix ($I$) so that $A \\cdot I = I \\cdot A = A$ is $\\left[\n",
    "\\begin{array}{ccc}\n",
    "1 & 0 \\\\\n",
    "0 & 1\\\\\n",
    "\\end{array}\n",
    "\\right]$ (example: 2 x 2)"
   ]
  },
  {
   "cell_type": "markdown",
   "metadata": {},
   "source": [
    "### Inverse Matrix \n",
    "\n",
    "If A is an m x n matrix and A has an inverse, then we define the **inverse matrix** of A as the matrix $A^{-1}$:\n",
    "\n",
    "$AA^{-1} = A^{-1}A = I$\n",
    "\n",
    "**Note 1**: only square matrices (n x n) have inverse matrices.  \n",
    "**Note 2**: matrices without inverse are called *singular* or *degenerate*."
   ]
  },
  {
   "cell_type": "markdown",
   "metadata": {},
   "source": [
    "### Transpose Matrix\n",
    "\n",
    "Let A be an n x m matrix, and $B = A^T$. Then B is an m x n matrix and $B_{ij} = A_{ji}$"
   ]
  }
 ],
 "metadata": {
  "kernelspec": {
   "display_name": "Python 3",
   "language": "python",
   "name": "python3"
  },
  "language_info": {
   "codemirror_mode": {
    "name": "ipython",
    "version": 3
   },
   "file_extension": ".py",
   "mimetype": "text/x-python",
   "name": "python",
   "nbconvert_exporter": "python",
   "pygments_lexer": "ipython3",
   "version": "3.6.1"
  }
 },
 "nbformat": 4,
 "nbformat_minor": 2
}
