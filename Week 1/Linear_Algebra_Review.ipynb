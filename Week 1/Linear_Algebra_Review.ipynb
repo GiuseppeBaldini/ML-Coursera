{
 "cells": [
  {
   "cell_type": "markdown",
   "metadata": {},
   "source": [
    "# Linear Algebra Review"
   ]
  },
  {
   "cell_type": "markdown",
   "metadata": {},
   "source": [
    "### Introduction\n",
    "\n",
    "A **matrix** is a rectangular (two-dimensional) array of numbers such as:"
   ]
  },
  {
   "cell_type": "markdown",
   "metadata": {},
   "source": [
    "$\\left[\n",
    "\\begin{array}{ccc}\n",
    "2 & 4 & 42 \\\\\n",
    "6 & 9 & 99\\\\\n",
    "100 & 88 & 5\n",
    "\\end{array}\n",
    "\\right]$"
   ]
  },
  {
   "cell_type": "markdown",
   "metadata": {},
   "source": [
    "By convention, they are described as $rows \\times columns$ (the example above would be *3 x 3*). Therefore, $A_{ij}$ will refer to the element at the $i^th$ row and $j^th$ column of matrix A.\n",
    " \n",
    "A **vector** is a special matrix with one column ($n \\times 1$). We describe this as n-dimensional as a vector. We can describe a vector element as simply the $i^{th}$ element. \n",
    "\n",
    "A **scalar**"
   ]
  },
  {
   "cell_type": "markdown",
   "metadata": {},
   "source": []
  }
 ],
 "metadata": {
  "kernelspec": {
   "display_name": "Python 3",
   "language": "python",
   "name": "python3"
  },
  "language_info": {
   "codemirror_mode": {
    "name": "ipython",
    "version": 3
   },
   "file_extension": ".py",
   "mimetype": "text/x-python",
   "name": "python",
   "nbconvert_exporter": "python",
   "pygments_lexer": "ipython3",
   "version": "3.6.1"
  }
 },
 "nbformat": 4,
 "nbformat_minor": 2
}
