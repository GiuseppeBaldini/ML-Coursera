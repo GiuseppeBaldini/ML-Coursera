{
 "cells": [
  {
   "cell_type": "markdown",
   "metadata": {},
   "source": [
    "# 1.1 Introduction"
   ]
  },
  {
   "cell_type": "markdown",
   "metadata": {},
   "source": [
    "### Definitions\n",
    "\n",
    "1. \"Field of study that gives computers the ability to learn without being explicitly programmed\" (Arthur Samuel, 1959) [_Older, more informal_]\n",
    "2. \"A computer is said to _learn_ from experience E with respect to some task T and some performance measure P, if its performance on T, measured by P, improves with experience E\" (Tom Mitchell, 1998)\n",
    "\n",
    "**Example**: in spam filtering using ML, the task (T) is classifying whether an email is spam or not."
   ]
  },
  {
   "cell_type": "markdown",
   "metadata": {},
   "source": [
    "### Supervised Learning\n",
    "\n",
    "The algorithm learns from \"right answers\". \n",
    "\n",
    "**Example 1**: in **regression** problems, we want to predict a continuous valued output.  \n",
    "**Example 2**: in **classfication** problems, we want to predict a discrete valued output (_label_)."
   ]
  },
  {
   "cell_type": "markdown",
   "metadata": {},
   "source": [
    "### Unsupervised Learning\n",
    "\n",
    "The algorithm works on a dataset without existing labels and tries to understand the underlying structure of the data. \n",
    "\n",
    "**Example 1**: in **classification** problems, we want to categorize our data in different clusters."
   ]
  },
  {
   "cell_type": "markdown",
   "metadata": {},
   "source": [
    "# 1.2 Linear Regression"
   ]
  },
  {
   "cell_type": "markdown",
   "metadata": {},
   "source": [
    "Linear regression predicts a real-valued output based on an input value."
   ]
  },
  {
   "cell_type": "markdown",
   "metadata": {},
   "source": [
    "### Notation\n",
    "\n",
    "$m$ = Number of training examples  \n",
    "$x$ = Input variable / features  \n",
    "$y$ = Output variable / target\n",
    "\n",
    "$(x,y)$ = Training example\n",
    "\n",
    "$(x_i, y_i) = i_{th}$ training example\n",
    "\n",
    "$h$ = Learning (hypothesis) function "
   ]
  },
  {
   "cell_type": "markdown",
   "metadata": {},
   "source": [
    "In this particular case, $h$ is a linear function, and since we are working with only one dependent variable we will call it **univariate linear regression**."
   ]
  },
  {
   "cell_type": "code",
   "execution_count": null,
   "metadata": {},
   "outputs": [],
   "source": []
  }
 ],
 "metadata": {
  "kernelspec": {
   "display_name": "Octave",
   "language": "octave",
   "name": "octave"
  },
  "language_info": {
   "name": ""
  }
 },
 "nbformat": 4,
 "nbformat_minor": 2
}
