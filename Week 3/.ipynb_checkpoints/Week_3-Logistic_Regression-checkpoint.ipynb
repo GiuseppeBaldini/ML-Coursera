{
 "cells": [
  {
   "cell_type": "markdown",
   "metadata": {},
   "source": [
    "# 3. Logistic Regression"
   ]
  },
  {
   "cell_type": "markdown",
   "metadata": {},
   "source": [
    "### Introduction\n",
    "\n",
    "In a classification problem, the variable we are trying to classify has two possible values: 0 and 1."
   ]
  },
  {
   "cell_type": "markdown",
   "metadata": {},
   "source": [
    "$ y \\in \\{0,1\\}$  with 0 = **Negative class** | 1 = **Positive class**"
   ]
  },
  {
   "cell_type": "markdown",
   "metadata": {},
   "source": [
    "**Note**: In a multiclass classification problem, our variable can assume multiple values.  \n",
    "\n",
    "In our simplest case - **binary classification problem** - linear regression can assume value between 0 and 1: \n",
    "\n",
    "$ 0 \\le h_\\theta(x) \\le 1$ "
   ]
  },
  {
   "cell_type": "markdown",
   "metadata": {},
   "source": [
    "### Hypothesis Representation\n",
    "\n",
    "$ h_\\theta(x) = g(\\theta^T x) $  \n",
    "\n",
    "where g(z) is the **sigmoid function** or **logistic function**:\n",
    "\n",
    "$g(z) = \\frac{1}{1+e^{-z}}  =  \\frac{1}{1+e^{-\\theta^T x}} $"
   ]
  },
  {
   "cell_type": "markdown",
   "metadata": {},
   "source": [
    "### Interpretation\n",
    "\n",
    "$h_\\theta(x)$ = estimated probability that y = 1 on input x  \n",
    "$h_\\theta(x) = p (y=1 | x=0) $"
   ]
  },
  {
   "cell_type": "markdown",
   "metadata": {},
   "source": [
    "### Decision Boundary"
   ]
  },
  {
   "cell_type": "markdown",
   "metadata": {},
   "source": [
    "Suppose we predict:  \n",
    "\n",
    "$h_\\theta(x) \\ge 0.5 \\to y = 1$  \n",
    "\n",
    "$h_\\theta(x) < 0.5 \\to y = 0$  \n",
    "\n",
    "By design of our logistic function:\n",
    "\n",
    "$z \\ge 0 \\to g(z) \\ge 0.5 $\n",
    "\n",
    "Therefore:\n",
    "\n",
    "$\\theta^Tx \\ge 0 \\to  h_{\\theta}(x) = g(\\theta^Tx) \\ge 0.5 $  "
   ]
  },
  {
   "cell_type": "markdown",
   "metadata": {},
   "source": [
    "The **decision boundary** is the line which delimits the area where y = 0 or y = 1.   "
   ]
  },
  {
   "cell_type": "markdown",
   "metadata": {},
   "source": [
    "### Cost Function"
   ]
  },
  {
   "cell_type": "markdown",
   "metadata": {},
   "source": []
  }
 ],
 "metadata": {
  "kernelspec": {
   "display_name": "Python 3",
   "language": "python",
   "name": "python3"
  },
  "language_info": {
   "codemirror_mode": {
    "name": "ipython",
    "version": 3
   },
   "file_extension": ".py",
   "mimetype": "text/x-python",
   "name": "python",
   "nbconvert_exporter": "python",
   "pygments_lexer": "ipython3",
   "version": "3.6.1"
  }
 },
 "nbformat": 4,
 "nbformat_minor": 2
}
