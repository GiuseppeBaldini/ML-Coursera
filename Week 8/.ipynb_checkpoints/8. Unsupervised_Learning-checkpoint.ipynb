{
 "cells": [
  {
   "cell_type": "markdown",
   "metadata": {},
   "source": [
    "# 8. Unsupervised Learning"
   ]
  },
  {
   "cell_type": "markdown",
   "metadata": {},
   "source": [
    "In this section we will start working with **unsupervised** algorithms, which work with unlabeled data. "
   ]
  },
  {
   "cell_type": "markdown",
   "metadata": {},
   "source": [
    "A good example is **clustering**, where we look for _groups_ (clusters) in the data. Here is our first clustering algorithm: "
   ]
  },
  {
   "cell_type": "markdown",
   "metadata": {},
   "source": [
    "### K-means algorithm\n",
    "\n",
    "The K-means algorithm is by far the most popular and widely used (_at the time of the video_) clustering algorithm. \n",
    "\n",
    "Assuming I want to find $n$ clusters from my dataset, our algorithm will: \n",
    "\n",
    "1. Initialize two random $n$ points (**clusters centroids**)\n",
    "2. Assign all points to one of the $n$ clusters\n",
    "3. Move the centroids to the **average** of the new clusters\n",
    "4. Rinse and repeat"
   ]
  },
  {
   "cell_type": "markdown",
   "metadata": {},
   "source": [
    "Notation:\n",
    "\n",
    "* $K$ = number of clusters \n",
    "* $c^{(i)}$ = cluster centroid $i$\n",
    "* $x^{(i)}$ = center of cluster $i$\n",
    "* $\\mu_k$ = average of points assigned to cluster $k$"
   ]
  },
  {
   "cell_type": "markdown",
   "metadata": {},
   "source": [
    "### Optimization objective\n",
    "\n",
    "Like the previous algorithms we have seen, K-means has its own minimization function. Understanding it will be useful for two reasons:\n",
    "\n",
    "* Debugging / checking that everything runs properly\n",
    "* Avoiding to end up in local minima"
   ]
  },
  {
   "cell_type": "markdown",
   "metadata": {},
   "source": [
    "Using the notation introduce above, our optimization objective is:\n",
    "\n",
    "$J(c^{(1)}, \\ldots, c^{(m)}, \\mu_1, \\ldots , \\mu_k) = \\frac{1}{m} \\sum_{i=1}^m ||x^{(i)} - \\mu_{c^{(i)}}||^2$"
   ]
  },
  {
   "cell_type": "markdown",
   "metadata": {},
   "source": [
    "### Random initialization\n",
    "\n",
    "The most effective method is picking $K$ distinct random training examples and assign them as our first centroids. \n",
    "\n",
    "This works especially well if we initialize randomly multiple times. "
   ]
  },
  {
   "cell_type": "markdown",
   "metadata": {},
   "source": [
    "### Choosing the number of clusters\n",
    "\n",
    "Although choosing a number of clusters can feel somehow arbitrary, a method often implemented is the _elbow method_, which plots the variation of $J$ (cost function) as a function of $K$ (n. of clusters) and looks for an \"elbow\" (sudden variation in slope of the curve). \n",
    "\n",
    "Unfortunately, often the elbow is not that clear and can be hard to choose, making the method not particularly more helpful than chance. "
   ]
  },
  {
   "cell_type": "markdown",
   "metadata": {},
   "source": [
    "# Dimensionality Reduction"
   ]
  },
  {
   "cell_type": "markdown",
   "metadata": {},
   "source": [
    "The first motivation behind dimensionality reduction is **data compression**.\n",
    "\n",
    "In an example of 3D data, we can represent the points in our 3D coordinates by projecting them on a 2D plane. By doing so, we can represent almost the same data using two dimensions instead of three.  "
   ]
  },
  {
   "cell_type": "markdown",
   "metadata": {},
   "source": [
    "The second is **visualization**, which can obviously be very challenging for datasets with large number of features. "
   ]
  },
  {
   "cell_type": "markdown",
   "metadata": {},
   "source": [
    "### Principal Component Analysis (PCA)"
   ]
  },
  {
   "cell_type": "markdown",
   "metadata": {},
   "source": [
    "Let's now introduce a dimensionality reduction algorithm: Principal Component Analysis (PCA). "
   ]
  },
  {
   "cell_type": "markdown",
   "metadata": {},
   "source": [
    "Problem"
   ]
  }
 ],
 "metadata": {
  "kernelspec": {
   "display_name": "Python 3",
   "language": "python",
   "name": "python3"
  },
  "language_info": {
   "codemirror_mode": {
    "name": "ipython",
    "version": 3
   },
   "file_extension": ".py",
   "mimetype": "text/x-python",
   "name": "python",
   "nbconvert_exporter": "python",
   "pygments_lexer": "ipython3",
   "version": "3.6.1"
  }
 },
 "nbformat": 4,
 "nbformat_minor": 2
}
