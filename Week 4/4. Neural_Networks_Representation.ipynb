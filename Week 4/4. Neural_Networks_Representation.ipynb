{
 "cells": [
  {
   "cell_type": "markdown",
   "metadata": {},
   "source": [
    "# 4. Neural Networks: Representation"
   ]
  },
  {
   "cell_type": "markdown",
   "metadata": {},
   "source": [
    "### Non-linear hypotheses\n",
    "\n",
    "Suppose you have a housing classification problem with 100 original features. Combinations of these features would likely add up to a very large number of total features.\n",
    "\n",
    "It turns out, this is indeed both time consuming and very computationally expensive for our existing techniques.\n",
    "\n",
    "Using the example of **computer vision**, to recognize a car we could use the intensity of a 50x50 grid of pixels (2500 features - 7500 if RGB) or use *only* the quadratic features with our existing methods (around 3 **million** features).\n",
    "The first approach seems more pragmatic, and this section will cover how it works.  "
   ]
  },
  {
   "cell_type": "markdown",
   "metadata": {},
   "source": [
    "### Neurons and the brain\n",
    "\n"
   ]
  }
 ],
 "metadata": {
  "kernelspec": {
   "display_name": "Python 3",
   "language": "python",
   "name": "python3"
  },
  "language_info": {
   "codemirror_mode": {
    "name": "ipython",
    "version": 3
   },
   "file_extension": ".py",
   "mimetype": "text/x-python",
   "name": "python",
   "nbconvert_exporter": "python",
   "pygments_lexer": "ipython3",
   "version": "3.6.1"
  }
 },
 "nbformat": 4,
 "nbformat_minor": 2
}
